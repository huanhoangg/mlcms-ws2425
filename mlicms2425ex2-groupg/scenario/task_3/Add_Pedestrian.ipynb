{
 "cells": [
  {
   "cell_type": "code",
   "execution_count": null,
   "id": "ed75b28d-d1c8-446b-866e-17a8e8177690",
   "metadata": {},
   "outputs": [],
   "source": [
    "from add_pedestrian import *"
   ]
  },
  {
   "cell_type": "code",
   "execution_count": null,
   "id": "f7bf7969-8083-4fe5-b896-3cf3ad932172",
   "metadata": {},
   "outputs": [],
   "source": [
    "# Define Parameters Below To Your Own Choices\n",
    "file_path = \"path/to/scenario\"\n",
    "pedestrian_id = 100\n",
    "target_ids = [3, 4, 5]  # List of target IDs\n",
    "pos_x = 9.0\n",
    "pos_y = 0.0\n",
    "scenario_name = \"updated_scenario\"\n",
    "output_path = \"path/to/output_scenario.json\""
   ]
  },
  {
   "cell_type": "code",
   "execution_count": null,
   "id": "2e5f8a59-355f-41f3-94b8-60fd9defccfd",
   "metadata": {},
   "outputs": [],
   "source": [
    "# Make the Update\n",
    "scenario = read_scenario(file_path)\n",
    "updated_scenario = add_pedestrian(scenario, pedestrian_id, target_ids, pos_x, pos_y, scenario_name)\n",
    "save_scenario(output_path, updated_scenario)"
   ]
  }
 ],
 "metadata": {
  "kernelspec": {
   "display_name": "Python 3 (ipykernel)",
   "language": "python",
   "name": "python3"
  },
  "language_info": {
   "codemirror_mode": {
    "name": "ipython",
    "version": 3
   },
   "file_extension": ".py",
   "mimetype": "text/x-python",
   "name": "python",
   "nbconvert_exporter": "python",
   "pygments_lexer": "ipython3",
   "version": "3.11.7"
  }
 },
 "nbformat": 4,
 "nbformat_minor": 5
}
